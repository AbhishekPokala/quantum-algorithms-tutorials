{
 "cells": [
  {
   "cell_type": "markdown",
   "metadata": {},
   "source": [
    "<img src=\"images/quantum_algorithms_tutorials.png\" alt=\"drawing\" width=\"100\" align=\"left\"/>\n",
    "\n",
    "<h1 align=\"center\">\n",
    "\tIterative phase estimation algorithm\n",
    "</h1>\n",
    "\n",
    "The iterative phase estimation algorithm is a quantum algorithm for estimating the phase (or eigenvalue) of an eigenvector of a unitary operator [1]. One of the main applications of the algorithm is to estimate eigenvalues (energies) of some molecule's $H$ Hamiltonian. Because $H$ is a Hermitian operator, not unitary, (the algorithm works only with unitary operators) we can't estimate directly its eigenvalues. Instead, we create some unitary operator from $H$ and estimate not the eigenvalues of $H$, but something different (the phase). From the estimated phase one can obtain the corresponding eigenvalue of $H$. So, in the end, we are not only estimating the phase but, what is more important, the desired eigenvalue. Here are the main steps of the algorithm:\n",
    "\n",
    "1) Create unitary operator $U$ from given $H$: \n",
    "$$U = e^{iHt}.$$ \n",
    "Here $t$ is a parameter.\n",
    "   \n",
    "2) Apply $U$ on the eigenstate $\\left| \\psi_k \\right\\rangle$ of $H$. For simplicity, we will assume that the eigenstate is given: \n",
    "\n",
    "$$U \\left| \\psi_k \\right\\rangle = e^{iHt} \\left| \\psi_k \\right\\rangle$$ \n",
    "\n",
    "From the Taylor series for the exponent we have:\n",
    "\n",
    "$$e^{iHt} \\left| \\psi_k \\right\\rangle = i t H \\left| \\psi_k \\right\\rangle - \\frac{t^2}{2} H^2 \\left| \\psi_k \\right\\rangle + \\frac{t^4}{4} H^4 \\left| \\psi_k \\right\\rangle - ...$$\n",
    "\n",
    "And by using the Schrödinger equation $H \\left| \\psi_k \\right\\rangle = E_{k} \\left| \\psi_k \\right\\rangle$, we will obtain: \n",
    "\n",
    "$$e^{iHt} \\left|\\psi_k \\right\\rangle = e^{iE_{k}t} \\left|\\psi_k \\right\\rangle,$$ \n",
    "\n",
    "where $E_k$ is the eigenvalue of the corresponding $\\left| \\psi_k \\right\\rangle$ eigenstate. The goal of the algorithm is to find $E_k$s.\n",
    "\n",
    "3) It easy to see that:\n",
    "\n",
    "$$e^{iHt}\\left|\\psi_k \\right\\rangle = e^{iE_{k}t} \\left|\\psi_k \\right\\rangle  = e^{i 2 \\pi \\varphi_k} \\left|\\psi_k \\right\\rangle,$$\n",
    "\n",
    "where $\\varphi_k = E_{k}t / 2 \\pi$ is the phase that the algorithm is capable to estimate. After estimating the phase it will be easy to estimate the corresponding eigenvalue:\n",
    "\n",
    "$$ E_{k} = 2 \\pi \\varphi_k / t$$\n",
    "\n",
    "Now let's see how the algorithm actually works. Firstly, we should import all the packages that we will use."
   ]
  },
  {
   "cell_type": "code",
   "execution_count": 1,
   "metadata": {},
   "outputs": [],
   "source": [
    "import numpy as np\n",
    "from random import random\n",
    "from qiskit import *\n",
    "from qiskit.aqua.operators import WeightedPauliOperator, MatrixOperator\n",
    "from qiskit.aqua.operators.op_converter import to_matrix_operator\n",
    "from qiskit.aqua.utils.controlled_circuit import get_controlled_circuit"
   ]
  },
  {
   "cell_type": "markdown",
   "metadata": {},
   "source": [
    "Then we are choosing a quantum computer simulator that we will use (namely ```'qasm_simulator'```). ```a``` and ```q``` are quantum registers. ```q``` register is the main register where $\\left| \\psi_k \\right\\rangle$ eigenstate will be encoded. $a$ register contains one ancillary qubit, where, after IPEA algorithm, the **phase** will be stored. In the end, only the ancillary qubit is measured and the measurement result will be stored in ```c``` classical register."
   ]
  },
  {
   "cell_type": "code",
   "execution_count": 2,
   "metadata": {},
   "outputs": [],
   "source": [
    "backend = BasicAer.get_backend('qasm_simulator')\n",
    "q = QuantumRegister(1)\n",
    "a = QuantumRegister(1)\n",
    "c = ClassicalRegister(1)"
   ]
  },
  {
   "cell_type": "markdown",
   "metadata": {},
   "source": [
    "```simple_hamiltonian_operator``` is a method that creates some simple (diagonal) Hamiltonian. In that case, the eigenstates coincide with the computational basis ($\\left| 0 \\right\\rangle$ and $\\left| 1 \\right\\rangle$). So the initialization of the eigenstate will be easy. In this tutorial, the eigenvalue of $\\left| 1 \\right\\rangle$ is estimated."
   ]
  },
  {
   "cell_type": "code",
   "execution_count": 3,
   "metadata": {},
   "outputs": [],
   "source": [
    "def simple_hamiltonian_operator(E_1, E_2):\n",
    "    \"\"\"\n",
    "    Creates 0.5*(E_1 + E_2)*I + 0.5*(E_1 - E_2)*Z pauli sum \n",
    "    that will be our \"simple\" Hamiltonian operator. The corresponding \n",
    "    matrix for Hamiltonian is [[E_1, 0], [0, E_2]].\n",
    "    \n",
    "    \"\"\"\n",
    "    pauli_dict = {\n",
    "        'paulis': [{\"coeff\": {\"imag\": 0.0, \"real\": 0.5 * (E_1 - E_2)}, \"label\": \"Z\"},\n",
    "                   {\"coeff\": {\"imag\": 0.0, \"real\": 0.5 * (E_1 + E_2)}, \"label\": \"I\"}\n",
    "                   ]\n",
    "    }\n",
    "    return WeightedPauliOperator.from_dict(pauli_dict)"
   ]
  },
  {
   "cell_type": "markdown",
   "metadata": {},
   "source": [
    "Here the eigenvalue of $\\left| 1 \\right\\rangle$ eigenstate is equal to $E_2$. Thus the algorithm should estimate the value of $E_2$. The Hamiltonian in matrix form looks like this:\n",
    "\n",
    "$$H = \\begin{pmatrix}\n",
    "E_1 & 0\\\\\n",
    "0 & E_2\n",
    "\\end{pmatrix} $$\n",
    "\n",
    "This matrix should be exponentiated and applied on $\\left| 1 \\right\\rangle$ eigenstate:\n",
    "\n",
    "$$\n",
    "e^{iHt}  |1 \\rangle = \\begin{pmatrix}\n",
    "e^{i E_1 t} & 0\\\\\n",
    "0 & e^{i E_2 t}\n",
    "\\end{pmatrix} \n",
    "\\begin{pmatrix}\n",
    "0\\\\\n",
    "1\n",
    "\\end{pmatrix}= e^{i E_2 t}\n",
    "\\begin{pmatrix}\n",
    "0\\\\\n",
    "1\n",
    "\\end{pmatrix}$$"
   ]
  },
  {
   "cell_type": "code",
   "execution_count": 4,
   "metadata": {},
   "outputs": [
    {
     "name": "stdout",
     "output_type": "stream",
     "text": [
      "We are going to estimate E_2 with IPEA algorithm = 0.007950247497199081\n",
      "\n",
      "The Hamiltonian operator in matrix form:\n",
      "[[0.        +0.j 0.        +0.j]\n",
      " [0.        +0.j 0.00795025+0.j]]\n"
     ]
    }
   ],
   "source": [
    "E_1, E_2 = (0, random())\n",
    "print(\"We are going to estimate E_2 with IPEA algorithm = {}\".format(E_2))\n",
    "\n",
    "H = simple_hamiltonian_operator(E_1, E_2)\n",
    "print(\"\\nThe Hamiltonian operator in matrix form:\")\n",
    "print(to_matrix_operator(H).dense_matrix)"
   ]
  },
  {
   "cell_type": "markdown",
   "metadata": {},
   "source": [
    "The following code creates a circuit for $U = exp(-iHt)$. It is important to choose parameter $t$ for which $\\varphi = E_k t / 2 \\pi < 1$. If, for example $\\varphi = 1.1$, then the $2 \\pi \\varphi = 2 \\pi + 2 \\pi \\cdot 0.1$ and the estimated value for the phase will only be $0.1 \\ne \\varphi$. Consequently the estimated energy $E_{k} = 2 \\pi \\varphi / t$ will be wrong. \n",
    "\n",
    "Note, that the ```evolve``` method adds, in some sense undesired **\"-\"** sign. Because of the **\"-\"** sign something should be changed in the algorithm. In the case of ```evolve``` method we will have  $exp(-i 2 \\pi \\varphi) = exp(i 2 \\pi (1 - \\varphi)) = exp(i 2 \\pi \\tilde{\\varphi})$. Thus, the algorithm will estimate not $\\varphi = 1 - \\tilde{\\varphi}$, but $\\tilde{\\varphi}$. For simplicity let's omit the tilde above the $\\tilde{\\varphi}$."
   ]
  },
  {
   "cell_type": "code",
   "execution_count": 5,
   "metadata": {},
   "outputs": [],
   "source": [
    "t = 1\n",
    "H_circuit = H.evolve(evo_time=t, quantum_registers=q)\n",
    "# in older versions then Qiskit Aqua 0.6.2 one need to delete the barrier\n",
    "# that is added in the end of the circuit in order to avoid errors caused \n",
    "# by get_controlled_circuit method which in older versions doesn't recognize\n",
    "# barriers. For older versions add the following code:\n",
    "# H_circuit.data.__delitem__(-1)"
   ]
  },
  {
   "cell_type": "markdown",
   "metadata": {},
   "source": [
    "The following code creates a controlled version of the ```H_circuit``` on ```q``` register. The control qubit is the ancillary qubit. This means that if the ancillary is in $\\left| 0 \\right\\rangle$ state the ```H_circuit``` will not run on ```q``` register and if the ancillary is in $\\left| 1 \\right\\rangle$ state the ```H_circuit``` will run on ```q``` register. Also, if the ancillary qubit is in the $\\left|+ \\right\\rangle$ superposition state and the qubit in ```q``` register is in $\\left|1 \\right\\rangle$ eigenstate we will have:\n",
    "\n",
    "$$\\left|+ \\right\\rangle_a \\left|1 \\right\\rangle_q = \\frac{1}{\\sqrt{2}} (\\left|0 \\right\\rangle_a + \\left|1 \\right\\rangle_a)\\left|1 \\right\\rangle_q$$\n",
    "\n",
    "After ```control_H``` circuit the state of the qubits will looks like this:\n",
    "\n",
    "$$(\\left|0 \\right\\rangle_a + exp(-i 2 \\pi \\varphi) \\left|1 \\right\\rangle_a)\\left|1 \\right\\rangle_q$$\n",
    "\n",
    "This way we can store the value of the phase in the ancillary qubit. To give you an idea of how we are going to extract the phase let's imagine that the phase is either $0$ or $\\frac{1}{2}$. If the phase is $0$ the state of the ancillary qubit will be $\\left|+\\right\\rangle_a$ state and if it is $\\frac{1}{2}$ the state will be $\\left|- \\right\\rangle_a$. After this we apply to the ancillary qubit the Hadamard gate. In this step, the $\\left|+\\right\\rangle_a$ state will transform to the $\\left|0\\right\\rangle_a$ state and the $\\left|-\\right\\rangle_a$ state will transform to the $\\left|0\\right\\rangle_a$ state. So, just by measuring the ancillary qubit one will know is the phase $0$ or $\\frac{1}{2}$."
   ]
  },
  {
   "cell_type": "code",
   "execution_count": null,
   "metadata": {},
   "outputs": [],
   "source": [
    "control_H = get_controlled_circuit(H_circuit, a[0])"
   ]
  },
  {
   "cell_type": "markdown",
   "metadata": {},
   "source": [
    "For general case we will represent $\\varphi$ in its fractional binary representation:\n",
    "\n",
    "$$\\varphi = 0.\\varphi_0 \\varphi_1 \\varphi_2 \\varphi_3... =  \\frac{\\varphi_0}{2} + \\frac{\\varphi_1}{2^2} + \\frac{\\varphi_2}{2^3} + \\frac{\\varphi_3}{2^4} + ...$$\n",
    "\n",
    "where each $\\varphi_k$ is a bit (it is equal to $0$ or $1$). Here we should do the iterations. For each iteration, the algorithm is going to estimate one $\\varphi_k$ bit at a time. The estimation is starting from the last bit. For example let's find $\\varphi = 0.11$ phase. Notice, that after ```cantrol_H``` we will have the following exponent $exp(i 2 \\pi 0.11)$. After applying ```cantrol_H``` twice one will obtain two exponents $exp(i 2 \\pi 0.11) \\cdot exp(i 2 \\pi 0.11) = exp(i 2 \\pi 0.1)$, because $2 \\cdot 0.11 = 2 \\cdot (\\frac{1}{2} + \\frac{1}{4}) = (1 + \\frac{1}{2}) = 1.1$. This way we come to the simple example explained above ($\\varphi$ is equal to $0$ or $\\frac{1}{2}$). So it will be easy to estimate the second bit from $\\varphi = 0.11$. At the second iteration the ```cantrol_H``` is applied once ($exp(i 2 \\pi 0.11)$). Then the estimated second bit $\\varphi_1$ is subtracted from the phase with a phase gate. In qiskit this action corresponds to the gate ```u1(-phase_shift, a[0])```, where ```phase_shift``` contains all the estimated bits. This way at each iteration we will come to the simple phase case ($0$ or $\\frac{1}{2}$ case).\n",
    "\n",
    "The following ```for``` loop iteratively estimates the phase."
   ]
  },
  {
   "cell_type": "code",
   "execution_count": null,
   "metadata": {},
   "outputs": [],
   "source": [
    "num_bits_estimate = 10\n",
    "phase = 0\n",
    "for k_precision in reversed(range(num_bits_estimate)):\n",
    "    # Create a Quantum Circuit acting on the q register\n",
    "    k_circ = QuantumCircuit(q, a, c)\n",
    "\n",
    "    # (1) |1> eigenstate initialization\n",
    "    k_circ.x(q[0])\n",
    "\n",
    "    # (2) Initial Hadamard gate applied on ancillary qubit.\n",
    "    k_circ.h(a[0])\n",
    "\n",
    "    # (3) The control Hamiltonian applied on the qubits where control qubit is the ancillary qubit.\n",
    "    for order in range(2 ** k_precision):\n",
    "        k_circ += control_H\n",
    "\n",
    "    # (4) The phase gate and final Hadamard gate on ancillary qubit.\n",
    "    phase_shift = 2 * np.pi * phase * 2 ** k_precision\n",
    "    k_circ.u1(-phase_shift, a[0])\n",
    "    k_circ.h(a[0])\n",
    "\n",
    "    # (5) Measurement of ancillary qubit (findig the bit)\n",
    "    k_circ.measure(a[0], c[0])\n",
    "\n",
    "    # (6) executing on Quantum Computer and finding a bit from the phase\n",
    "    job = execute(k_circ, backend, shots=1000)\n",
    "    result = job.result()\n",
    "    counts = result.get_counts()\n",
    "    value = int(max(counts, key=counts.get))\n",
    "\n",
    "    # (7) phase after this iteration\n",
    "    phase += value / 2 ** (k_precision + 1)"
   ]
  },
  {
   "cell_type": "markdown",
   "metadata": {},
   "source": [
    "Finally we are estimating the eigenvalue (energy) of the $\\left| 1 \\right\\rangle$ eigenstate and printing the result alongside the true eigenvalue $E_2$."
   ]
  },
  {
   "cell_type": "code",
   "execution_count": null,
   "metadata": {},
   "outputs": [],
   "source": [
    "eigenvalue = 2 * np.pi * (1 - phase) / t\n",
    "print(\"Eigenvalue of Hamiltonian: {}\".format(E_2))\n",
    "print(\"Estimated eigenvalue of Hamiltonian: {}\".format(eigenvalue))"
   ]
  },
  {
   "cell_type": "markdown",
   "metadata": {},
   "source": [
    "We omitted one step of the algorithm. That is the Trotter decomposition step. For some Hamiltonian $H = h_1 + h_2 + h_3$ we need to exponentiate it to obtain $U = e^{i H t}$ unitary operator. Actually with this algorithm (namely when we are constructing a circuit with ```evolve``` method) we obtain $\\tilde{U} = e^{i h_1 t} \\cdot e^{i h_2 t} \\cdot e^{i h_3 t}$. Actually, $e^{iHt} \\ne  e^{i h_1 t} \\cdot e^{i h_2 t} \\cdot e^{i h_3 t}$. To obtain more or less valid $U$ operator we should do Trotter decomposition:\n",
    "\n",
    "$$ U = (e^{i h_1 \\frac{t}{N}} \\cdot e^{i h_2 \\frac{t}{N}} \\cdot e^{i h_3 \\frac{t}{N}})^N + O(\\frac{t^2}{N}),$$\n",
    "\n",
    "where $N$ is the Trotter number [2]. By increasing $N$ it is possible to obtain better representation for $U$ operator. Because our example of the Hamiltonian was simple (2x2 diagonal matrix) a reasonable result was obtained without doing this step."
   ]
  },
  {
   "cell_type": "markdown",
   "metadata": {},
   "source": [
    "**Final notes**: Note that instead of $E_2$ we can estimate $E_1$. For that we should prepare our qubit not in $\\left| 1 \\right\\rangle$ state, but in $\\left| 0 \\right\\rangle$ and estimate its eigenvalue (aka $E_1$). Here comes some problem that I didn't manage to solve. This code actually estimates $E_2 - E_1$ instead of $E_2$ and $E_1 = 0$ instead of $E_1$. This could be because ```evolve``` method doesn't work properly. It should construct a circuit that corresponds to $e^{-iHt}$, but instead, it creates a circuit for to $e^{-iH^*t}$, where $H^* = \\begin{pmatrix}\n",
    "0 & 0\\\\\n",
    "0 & E_2 - E_1\n",
    "\\end{pmatrix}$. Currently, I am trying to solve this problem, which may be caused by a qiskit bug in ```evolve``` method or something different."
   ]
  },
  {
   "cell_type": "markdown",
   "metadata": {},
   "source": [
    "[1] [Quantum phase estimation algorithm](https://en.wikipedia.org/wiki/Quantum_phase_estimation_algorithm)\n",
    "\n",
    "[2]  [J.D. Whitfield,  J. Biamonte  and  A. Aspuru-Guzik,\n",
    "Molecular Physics, \"Simulation of electronic structure Hamiltonians using\n",
    "quantum computers\" (2011)](https://www.tandfonline.com/doi/abs/10.1080/00268976.2011.552441)"
   ]
  }
 ],
 "metadata": {
  "kernelspec": {
   "display_name": "Python 3",
   "language": "python",
   "name": "python3"
  },
  "language_info": {
   "codemirror_mode": {
    "name": "ipython",
    "version": 3
   },
   "file_extension": ".py",
   "mimetype": "text/x-python",
   "name": "python",
   "nbconvert_exporter": "python",
   "pygments_lexer": "ipython3",
   "version": "3.6.9"
  }
 },
 "nbformat": 4,
 "nbformat_minor": 2
}
