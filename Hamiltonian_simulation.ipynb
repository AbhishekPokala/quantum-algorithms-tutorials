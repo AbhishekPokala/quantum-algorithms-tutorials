{
 "cells": [
  {
   "cell_type": "markdown",
   "metadata": {},
   "source": [
    "<img src=\"images/quantum_algorithms_tutorials.png\" alt=\"drawing\" width=\"100\" align=\"left\"/>\n",
    "\n",
    "<h2 align=\"center\">\n",
    "Hamiltonian simulation\n",
    "</h2>\n",
    "\n",
    "Hamiltonian simulation is one of the main subroutines of many quantum algorithms. Moreover, any quantum circuit can be described as Hamiltonian simulation. This is becouse every quantum circuit (without noise) can be described by unitary transformation and for any unitary transformation $U$ we can find Hamiltonian $H$, such that $U = e^{-iHt}$, where $t$ is a real number. In the circuit model quantum computation the problem of Hamiltonian simulation can be described this way: for given $H$ Hamiltonian operator construct $U = e^{iHt}$ circuit. This problem comes from Schrödinger’s equation: the dynamical behavior of many simple quantum systems is governed by Schrödinger’s equation [[1](https://www.cambridge.org/am/academic/subjects/physics/quantum-physics-quantum-information-and-quantum-computation/quantum-computation-and-quantum-information-10th-anniversary-edition?format=HB)]:\n",
    "\n",
    "$$i \\hbar \\frac{d}{dt} |\\psi \\rangle = H |\\psi \\rangle$$\n",
    "\n",
    "where $|\\psi \\rangle$ is the quantum state, $\\hbar$ is Plank's constant, $H$ is the Hamiltonian operator. When $H$ is not dependent on doesn't have dibendence on $t$ time, the solution of the Schrödinger’s equation will be [[1](https://www.cambridge.org/am/academic/subjects/physics/quantum-physics-quantum-information-and-quantum-computation/quantum-computation-and-quantum-information-10th-anniversary-edition?format=HB)]:\n",
    "\n",
    "$$|\\psi(t) \\rangle = e^{-iHt} |\\psi(0) \\rangle$$\n",
    "\n",
    "Hamiltonian operators are Hermitian operators, but $e^{-iHt}$ is an Unitary operator, that can be implemented by quantum gates. This is why Hamiltonian simulation is very important sobroutine for quantum system simulations (e.g. for quantum chemistry). It is also one of the main sobroutines in the quantum phase estimation algoithm ([QPE](https://github.com/DavitKhach/quantum-algorithms-tutorials/blob/master/quantum_phase_estimation.ipynb) and [IQPE](https://github.com/DavitKhach/quantum-algorithms-tutorials/blob/master/iterative_quantum_phase_estimation.ipynb)), which is frequently used as a subroutine in other quantum algorithms, such as Shor's algorithm and the quantum algorithm for linear systems of equations (HHL algorithm) [[2](https://en.wikipedia.org/wiki/Quantum_phase_estimation_algorithm)]. So, it is hard to underestimate the importance of Hamiltonian simulation in the quantum computation."
   ]
  },
  {
   "cell_type": "markdown",
   "metadata": {},
   "source": [
    "[1] [M.A. Nielsen, I.L. Chuang, Cambridge University Press New York, \"Quantum Computation and Quantum Information: 10th Anniversary Edition\n",
    "10th\" (2011)](https://www.cambridge.org/am/academic/subjects/physics/quantum-physics-quantum-information-and-quantum-computation/quantum-computation-and-quantum-information-10th-anniversary-edition?format=HB)\n",
    "\n",
    "[2] [Quantum phase estimation algorithm (wiki)](https://en.wikipedia.org/wiki/Quantum_phase_estimation_algorithm)"
   ]
  }
 ],
 "metadata": {
  "kernelspec": {
   "display_name": "Python 3",
   "language": "python",
   "name": "python3"
  },
  "language_info": {
   "codemirror_mode": {
    "name": "ipython",
    "version": 3
   },
   "file_extension": ".py",
   "mimetype": "text/x-python",
   "name": "python",
   "nbconvert_exporter": "python",
   "pygments_lexer": "ipython3",
   "version": "3.6.9"
  }
 },
 "nbformat": 4,
 "nbformat_minor": 2
}
