{
 "cells": [
  {
   "cell_type": "markdown",
   "metadata": {},
   "source": [
    "# Variational quantum eigensolver\n",
    "\n",
    "$$\\left| \\psi \\right\\rangle $$\n",
    "\n",
    "\n",
    "aaaaaaaaaaaaaaaaaaaaaaa\n",
    "\n",
    "$$| \\psi \\rangle $$\n",
    "\n",
    "aaaaaaaaaaaaaaaaaaaaaaa\n",
    "\n",
    "$$| \\psi> $$\n",
    "\n",
    "aaaaaaaaaaaaaaaaaa\n",
    "\n",
    "$$\\small | \\psi \\small \\rangle$$\n",
    "\n",
    "aaaaaaaaaaaaaaaaaa\n",
    "\n",
    "$$\\big | \\psi \\small \\rangle$$\n",
    "\n",
    "Variational quantum eigensolver (VQE) is a hybrid quantum-classical algorithm [1] that finds the smallest eigenvalue (and corresponding eigenvector) of a given Hamiltonian. One of the main applications of the algorithm is finding ground state energy of the molecules. It has a big advantage over [IPEA](https://github.com/DavitKhach/quantum-algorithms-tutorials/blob/master/iterative_phase_estimation.ipynb) (iterative phase estimation algorithm) and PEA (phase estimation algorithm) algorithms, that also can be used for finding the ground state energy of a molecule. The main advantage is that VQE uses a much small circuit depth (or gates) then IPEA and PEA, what is very important for NISQ (Noisy Intermediate-Scale Quantum) era quantum computation. In the NISQ era (now!) we are working with qubits that are very noisy because they are not isolated from the environment well enough. Thus, there is small and finite time to work with qubits until they will be \"spoiled\", because of the environment, imperfect gates and etc. This restriction gives a big advantage to those algorithms (like VQE) that are using small depth circuits. \n",
    "\n",
    "The principle of the VQE algorithm is as follows. We have a Hamiltonian that can be expressed by the sum of tensor products of Pauli operators (Pauli terms):\n",
    "\n",
    "$$H = 0.4 \\cdot IX + 0.6 \\cdot IZ + 0.8 \\cdot XY$$\n",
    "\n",
    "For a given $| \\psi \\rangle$ we want to measure the expectation value of the Hamiltonian:\n",
    "\n",
    "$$<H> = \\langle \\psi | H | \\psi \\rangle = 0.4 \\cdot \\langle \\psi | IX | \\psi \\rangle + 0.6 \\cdot \\langle \\psi | IZ | \\psi \\rangle + 0.8 \\cdot \\langle \\psi | XY | \\psi \\rangle$$\n",
    "\n",
    "How one can see the $<H>$ expectation value could be computed by adding the expectation values of its parts (Pauli terms). The algorithm does exactly that. It constructs a quantum circuit for each Pauli term and computes the expectation value of the corresponding Pauli term. After it, the algorithm sums all calculated expectation values of Pauli terms and obtains the expectation value of the $H$. In this algorithm, we will do this routine of estimating the expectation value over and over again for different trial wavefunctions (ansatz) $| \\psi \\rangle$. \n",
    "\n",
    "It is known that the eigenvector $| \\psi_g \\rangle$ that minimizes the expectation value corresponds to the eigenvector of $H$ that has the smallest eigenvalue [1]. So, basically we can try all possible rial wavefunctions (ansatz) $| \\psi \\rangle$s to find the $| \\psi_g \\rangle$ that has the smallest expectation value (eigenvalue). Here the question is how we create those trial states? In the algorithm, the trial states are created from a parametrized circuit. By changing the parameters one obtains different wavefunctions (ansatz states) [1]. If your circuit with its parameters is good enough you will have access to more or less all possible ansatz states [2]. Otherwise, if the circuit will not have a possibility to generate our desired $| \\psi_g \\rangle$ it will be impossible to find the right solution.\n",
    "\n",
    "The parameters of the state preparation circuit are controlled by a classical computer. At each step, the classical computer will change the parameters by using some optimization method in order to create an ansatz state that will have a smaller expectation value then previous ansatz states had. This way we will use a classical computer and quantum computer together to archive our goal (to find the ground state energy). That's way, VQE is a quantum-classical hybrid algorithm.\n",
    "\n",
    "<img src=\"images/vqe_parts.png\" alt=\"drawing\" width=\"600\"/>\n",
    "\n",
    "This image is taken from the [1] paper. Here are the main parts of the VQE algorithm. The *Classical feedback decision* is some optimization method that changes the parameters of the *Quantum state preparation*. With different *Quantum modules* the algorithm calculates expectation values of each Pauli term and then it adds them by using *Classical adder* via classical computer. Then the algorithm returns to *Classical feedback decision* to choose better parameters for the *Quantum state preparation*. VQE repeats this procedure until the optimization method is satisfied with the obtained result. Note, that we will use these names in the image as method names in our code."
   ]
  },
  {
   "cell_type": "markdown",
   "metadata": {},
   "source": [
    "Now let's see how the algorithm works. Firstly, we should import all the packages that we will use."
   ]
  },
  {
   "cell_type": "code",
   "execution_count": 1,
   "metadata": {},
   "outputs": [],
   "source": [
    "import numpy as np\n",
    "from random import random\n",
    "from scipy import array\n",
    "from scipy.optimize import minimize\n",
    "\n",
    "from qiskit import *\n",
    "from qiskit.extensions.standard import *\n",
    "from qiskit.aqua.operators import WeightedPauliOperator\n",
    "from qiskit.aqua.algorithms import ExactEigensolver"
   ]
  },
  {
   "cell_type": "markdown",
   "metadata": {},
   "source": [
    "For simplicity we will consider one qubit Hamiltonian consisting of a sum of 4 Pauli operators:\n",
    "\n",
    "$$H = a \\cdot I + b \\cdot Z + c \\cdot X + d \\cdot Y$$\n",
    "\n",
    "here are matrix representations of each Pauli operators:\n",
    "\n",
    "$$\n",
    "I = \\begin{pmatrix}\n",
    "1 & 0\\\\\n",
    "0 & 1\n",
    "\\end{pmatrix}\n",
    "\\qquad\n",
    "Z = \\begin{pmatrix}\n",
    "1 & 0\\\\\n",
    "0 & -1\n",
    "\\end{pmatrix}\n",
    "\\qquad\n",
    "X = \\begin{pmatrix}\n",
    "0 & 1\\\\\n",
    "1 & 0\n",
    "\\end{pmatrix}\n",
    "\\qquad\n",
    "Y = \\begin{pmatrix}\n",
    "0 & -i\\\\\n",
    "i & 1\n",
    "\\end{pmatrix}\n",
    "$$\n",
    "\n",
    "The following method creates $H$ for a given $a$, $b$, $c$, $d$ coefficients."
   ]
  },
  {
   "cell_type": "code",
   "execution_count": 2,
   "metadata": {},
   "outputs": [],
   "source": [
    "def hamiltonian_operator(a, b, c, d):\n",
    "    \"\"\"\n",
    "    Creates a*I + b*Z + c*X + d*Y pauli sum \n",
    "    that will be our Hamiltonian operator.\n",
    "    \n",
    "    \"\"\"\n",
    "    pauli_dict = {\n",
    "        'paulis': [{\"coeff\": {\"imag\": 0.0, \"real\": a}, \"label\": \"I\"},\n",
    "                   {\"coeff\": {\"imag\": 0.0, \"real\": b}, \"label\": \"Z\"},\n",
    "                   {\"coeff\": {\"imag\": 0.0, \"real\": c}, \"label\": \"X\"},\n",
    "                   {\"coeff\": {\"imag\": 0.0, \"real\": d}, \"label\": \"Y\"}\n",
    "                   ]\n",
    "    }\n",
    "    return WeightedPauliOperator.from_dict(pauli_dict)"
   ]
  },
  {
   "cell_type": "markdown",
   "metadata": {},
   "source": [
    "We define a, b, c, d coefficients as random numbers. Thus our Hamiltonian will be a random generated Hamiltonian which the smallest eigenvalue VQE algorithm will estimate."
   ]
  },
  {
   "cell_type": "code",
   "execution_count": 3,
   "metadata": {},
   "outputs": [],
   "source": [
    "a, b, c, d = (random(), random(), random(), random())\n",
    "H = hamiltonian_operator(a, b, c, d)"
   ]
  },
  {
   "cell_type": "markdown",
   "metadata": {},
   "source": [
    "Here we are using qiskit's ```ExactEigensolver``` class that will find the smallest eigenvalue of the given Hamiltonian via a classical algorithm. This value we will use as a reference for comparing it with VQE result."
   ]
  },
  {
   "cell_type": "code",
   "execution_count": 4,
   "metadata": {},
   "outputs": [
    {
     "name": "stdout",
     "output_type": "stream",
     "text": [
      "The exact ground state energy is: -0.287693852578697\n"
     ]
    }
   ],
   "source": [
    "exact_eigensolver = ExactEigensolver(H, k=2)\n",
    "result_ee = exact_eigensolver.run()\n",
    "reference_energy = result_ee['energy']\n",
    "print('The exact ground state energy is: {}'.format(reference_energy))"
   ]
  },
  {
   "cell_type": "markdown",
   "metadata": {},
   "source": [
    "Now we need to create \"good\" ansatz states. First of all, note that every possible wavefunction $| \\psi \\rangle$can be presented as a vector: \n",
    "$$\n",
    "| \\psi \\rangle = \\begin{pmatrix}\n",
    "c_1\\\\\n",
    "e^{i \\varphi} \\cdot c_2\n",
    "\\end{pmatrix},\n",
    "$$\n",
    "\n",
    "where $c_1$ and $c_2$ are real numbers and $c_1^2 + c_2^2 = 1$, $\\varphi$ is some phase ($\\varphi \\in (0, 2\\pi)$). So, every wavefunction is described by 3 coordinates (values) ($c_1$, $c_2$ and $\\varphi$) in 3D space. All possible states lie in one sphere in the 3D space. It's called the Bloch sphere and is presented in the following picture, that was taken from the book [3].\n",
    "\n",
    "<img src=\"images/bloch_sphere.png\" alt=\"drawing\" width=\"300\"/>\n",
    "\n",
    "A \"good\" quantum state preparation circuit should be able to generate all possible states in the Bloch sphere [2]. Before quantum state preparation, our qubit is in $| 0 \\rangle = \\begin{pmatrix}\n",
    "1\\\\\n",
    "0\n",
    "\\end{pmatrix}$\n",
    "state. That corresponds to the vertical position of the vector in the Bloch sphere. In order to generate any possible $| \\psi \\rangle$ we will use $R_x(\\theta)$ and $R_y(\\theta)$ gates. $R_x(\\theta)$ corresponds to the rotation in the Bloch sphere around the *x* axis and $R_y(\\theta)$ the rotation around the *y* axis. With these two rotations, one can have access to any point in the Bloch sphere. Here we show the matrix forms of $R_x(\\theta)$ and $R_y(\\theta)$ gates:\n",
    "\n",
    "$$\n",
    "R_x(\\theta) = \\begin{pmatrix}\n",
    "cos(\\frac{\\theta}{2}) & -i \\cdot sin(\\frac{\\theta}{2})\\\\\n",
    "-i \\cdot sin(\\frac{\\theta}{2}) & cos(\\frac{\\theta}{2})\n",
    "\\end{pmatrix}\n",
    "\\qquad\n",
    "R_y(\\theta) = \\begin{pmatrix}\n",
    "cos(\\frac{\\theta}{2}) & -sin(\\frac{\\theta}{2})\\\\\n",
    "sin(\\frac{\\theta}{2}) & cos(\\frac{\\theta}{2})\n",
    "\\end{pmatrix}\n",
    "$$\n",
    "\n",
    "These two gates with there two parameters (two $\\theta$s) will generate for us the trial (ansatz) wavefunctions. These two parameters will be in control of the Classical Computer and its optimization model.\n",
    "\n",
    "The following method corresponds to the quantum state preparation circuit for given parameters (two $\\theta$s)."
   ]
  },
  {
   "cell_type": "code",
   "execution_count": 5,
   "metadata": {},
   "outputs": [],
   "source": [
    "def quantum_state_preparation(circuit, parameters):\n",
    "    q = circuit.qregs[0] # q is the quantum register where the info about qubits is stored\n",
    "    circuit.rx(parameters[0], q[0]) # q[0] is our one and only qubit XD\n",
    "    circuit.ry(parameters[1], q[0])\n",
    "    return circuit"
   ]
  },
  {
   "cell_type": "markdown",
   "metadata": {},
   "source": [
    "Now we come to the part of the algorithm where we should do individual/separate measurements of expectation values of Hamiltonian Pauli terms. For one qubit case, we should think about only four possible Pauli terms: 4 basic Pauli operators $I$, $X$, $Y$, $Z$.\n",
    "\n",
    "$$<H> = \\langle \\psi | H | \\psi \\rangle = a \\cdot \\langle \\psi | I | \\psi \\rangle + b \\cdot \\langle \\psi | Z | \\psi \\rangle + c \\cdot \\langle \\psi | X | \\psi \\rangle + c \\cdot \\langle \\psi | Y | \\psi \\rangle$$\n",
    "\n",
    "For $I$ operator the  expectation value is always unity: $\\langle \\psi | I | \\psi \\rangle = \\langle \\psi | \\psi \\rangle = 1$. So, its contribution to the overall expectation value $<H>$ will be equal to $a \\cdot \\langle \\psi | I | \\psi \\rangle = a$.\n",
    "\n",
    "For rest of the Pauli operators, we should make the following remark: every quantum state $| \\psi \\rangle$ can be represented via different sets of basis vectors\n",
    "\n",
    "$$| \\psi \\rangle = c_1^z \\cdot | 0 \\rangle + c_2^z \\cdot | 1 \\rangle = c_1^x \\cdot | + \\rangle + c_2^x \\cdot | - \\rangle = c_1^y \\cdot | +i \\rangle + c_2^y \\cdot | -i \\rangle,$$\n",
    "\n",
    "where\n",
    "\n",
    "\\begin{align}\n",
    "&\\text{Z eigenvectors (basis gates)} \\qquad\n",
    "| 0 \\rangle = \\begin{pmatrix}\n",
    "1\\\\\n",
    "0\n",
    "\\end{pmatrix},\n",
    "\\qquad \\qquad \\; \\; \\;\n",
    "| 1 \\rangle = \\begin{pmatrix}\n",
    "0\\\\\n",
    "1\n",
    "\\end{pmatrix},\n",
    "\\\\\n",
    "&\\text{X eigenvectors (basis gates)} \\qquad\n",
    "| + \\rangle = \\frac{1}{\\sqrt{2}} \\begin{pmatrix}\n",
    "1\\\\\n",
    "1\n",
    "\\end{pmatrix},\n",
    "\\qquad \\; \\; \\;\n",
    "| - \\rangle = \\frac{1}{\\sqrt{2}} \\begin{pmatrix}\n",
    "1\\\\\n",
    "-1\n",
    "\\end{pmatrix},\n",
    "\\\\\n",
    "&\\text{Y eigenvectors (basis gates)} \\qquad\n",
    "| +i \\rangle = \\frac{1}{\\sqrt{2}} \\begin{pmatrix}\n",
    "1\\\\\n",
    "i\n",
    "\\end{pmatrix},\n",
    "\\qquad \n",
    "| -i \\rangle = \\frac{1}{\\sqrt{2}} \\begin{pmatrix}\n",
    "1\\\\\n",
    "-i\n",
    "\\end{pmatrix}.\n",
    "\\end{align}\n",
    "\n",
    "Here after each Pauli operator, we show its eigenvectors. The first presented eigenvectors for each Pauli has an eigenvalue equal to +1: $Z | 0 \\rangle = +1| 0 \\rangle$, $X | + \\rangle = +1| + \\rangle$, $Y | +i \\rangle = +1| +i \\rangle$. And the second presented eigenvectors for each Pauli has an eigenvalue equal to -1: $Z | 1 \\rangle = -1| 1 \\rangle$, $X | - \\rangle = -1| - \\rangle$, $Y | -i \\rangle = -1| -i \\rangle$. Now, let's calculate the expectation values of these Pauli operators: \n",
    "\n",
    "\\begin{align}\n",
    "\\langle \\psi | Z | \\psi \\rangle &= ({c_1^z}^* \\cdot \\langle 0 | + {c_2^z}^* \\cdot \\langle 1 |) Z (c_1^z \\cdot | 0 \\rangle + c_2^z \\cdot | 1 \\rangle) = {|c_1^z|}^2 - {|c_2^z|}^2\n",
    "\\\\\n",
    "\\langle \\psi | X | \\psi \\rangle &= ({c_1^x}^* \\cdot \\langle + | + {c_2^x}^* \\cdot \\langle - |) X (c_1^x \\cdot | + \\rangle + c_2^x \\cdot | - \\rangle) = {|c_1^x|}^2 - {|c_2^x|}^2\n",
    "\\\\\n",
    "\\langle \\psi | Y | \\psi \\rangle &= ({c_1^y}^* \\cdot \\langle +i | + {c_2^y}^* \\cdot \\langle -i |) Y (c_1^y \\cdot | +i \\rangle + c_2^y \\cdot | -i \\rangle) = {|c_1^y|}^2 - {|c_2^y|}^2\n",
    "\\end{align}\n",
    "\n",
    "where we take into account that the inner product of orthonormal vectors is 0 (e.g. $\\langle 0 | 1 \\rangle = 0$, $\\langle + | - \\rangle = 0$, $\\langle +i | -i \\rangle = 0$). But what are these $|c|^2$s? The ${|c_1^z|}^2$ and ${|c_2^z|}^2$ are by definition the probabilities that after Z basis measurement (measuring is it $| 0 \\rangle$ or is it $| 1 \\rangle$) the quantum state $| \\psi \\rangle$ will become $| 0 \\rangle$ or $| 1 \\rangle$ respectively. In order to find that value, we should run our program with our trial $| \\psi \\rangle$  wavefunction and do $Z$ measurement on the qubit $N$ times (its named ```shots``` in code). The probability of finding the qubit after measurment in $| 0 \\rangle$ state will be equal ${|c_1^z|}^2 = \\frac{n_0}{N}$, where $n_0$ is the number of the $| 0 \\rangle$ state measurments. Similarly, ${|c_2^z|}^2 = \\frac{n_1}{N}$, where $n_1$ is the number of the $| 1 \\rangle$ state measurments. Thus, the final expectation value will be equal to $\\langle Z \\rangle = \\frac{n_0 - n_1}{N}$.\n",
    "\n",
    "For $\\langle X \\rangle = \\frac{n_+ - n_-}{N}$ and $\\langle Y \\rangle = \\frac{n_{+i} - n_{-i}}{N}$ the expectation value estimation procedure stays the same. Here $n_+$ and $n_-$ are numbers of measurements in X basis that corresponds to outcomes $| + \\rangle$ or $| - \\rangle$ respectively. And $n_{+i}$ and $n_{-i}$ are numbers of measurements in Y basis that corresponds to outcomes $| +i \\rangle$ or $| -i \\rangle$ respectively. The difficulty comes from the fact that you may have the possibility to measure only in the $Z$ basis. To solve this difficulty we still do a $Z$ basis measurement, but, before that, we apply specific operators to our $| \\psi \\rangle$ state. We try to apply such an operator that after measuring the probability of $| 0 \\rangle$ outcome will be equal to the probability of $| + \\rangle$ ($| + \\rangle$) outcome. And the probability of $| 1 \\rangle$ outcome will be equal to the probability of measuring $| - \\rangle$ ($| -i \\rangle$) outcome. In mathematics it looks like this:\n",
    "\n",
    "$$H_{gate} | \\psi \\rangle = H (c_1^x \\cdot | + \\rangle + c_2^x \\cdot | - \\rangle) = c_1^x \\cdot | 0 \\rangle + c_2^x \\cdot | 1 \\rangle,$$\n",
    "\n",
    "where $H_{gate}$ is an operator such that $H_{gate} | + \\rangle = | 0 \\rangle$ and $H_{gate} | - \\rangle = | 1 \\rangle$.\n",
    "\n",
    "$$Y_{gate} | \\psi \\rangle = Y_{gate} (c_1^y \\cdot | +i \\rangle + c_2^y \\cdot | -i \\rangle) = c_1^y \\cdot | 0 \\rangle + c_2^y \\cdot | 1 \\rangle,$$\n",
    "\n",
    "where $Y_{gate}$ is an operator such that $Y_{gate} | +i \\rangle = | 0 \\rangle$ and $Y_{gate} | -i \\rangle = | 1 \\rangle$.\n",
    "\n",
    "This kind of operators can be easily found:\n",
    "\n",
    "$$\n",
    "H_{gate} = \\frac{1}{\\sqrt{2}}\\begin{pmatrix}\n",
    "1 & 1\\\\\n",
    "1 & -1\n",
    "\\end{pmatrix}\n",
    "\\qquad\n",
    "Y_{gate} = \\frac{1}{\\sqrt{2}}\\begin{pmatrix}\n",
    "1 & -i\\\\\n",
    "1 & i\n",
    "\\end{pmatrix}\n",
    "$$\n",
    "BTW the $H_{gate}$ is the well known as Hadamard gate (common notation of it is $H$, but we don't use this notation because we already have used the $H$ letter for the Hamiltonian operator). In the following code you can see an implementation of these gates via qiskit's ```u2``` gate:\n",
    "\n",
    "$$\n",
    "u2(\\varphi, \\lambda) = \\frac{1}{\\sqrt{2}}\\begin{pmatrix}\n",
    "1 & -e^{i \\lambda}\\\\\n",
    "e^{i \\varphi} & e^{i (\\varphi + \\lambda)}\n",
    "\\end{pmatrix}.\n",
    "$$"
   ]
  },
  {
   "cell_type": "code",
   "execution_count": 6,
   "metadata": {},
   "outputs": [
    {
     "name": "stdout",
     "output_type": "stream",
     "text": [
      "H_gate:\n",
      "[[ 1.+0.j  1.-0.j]\n",
      " [ 1.+0.j -1.+0.j]]\n",
      "Y_gate:\n",
      "[[ 1.+0.j -0.-1.j]\n",
      " [ 1.+0.j  0.+1.j]]\n"
     ]
    }
   ],
   "source": [
    "H_gate = U2Gate(0, np.pi).to_matrix()\n",
    "print(\"H_gate:\")\n",
    "print((H_gate * np.sqrt(2)).round(5))\n",
    "\n",
    "Y_gate = U2Gate(0, np.pi/2).to_matrix()\n",
    "print(\"Y_gate:\")\n",
    "print((Y_gate * np.sqrt(2)).round(5))"
   ]
  },
  {
   "cell_type": "markdown",
   "metadata": {},
   "source": [
    "Finally, we are ready to go! In this code, we define a method that will create circuits with its specific measurement ($Z$ or $X$ or $Y$ measurments)."
   ]
  },
  {
   "cell_type": "code",
   "execution_count": 7,
   "metadata": {},
   "outputs": [],
   "source": [
    "def vqe_circuit(parameters, measure):\n",
    "    \"\"\"\n",
    "    Creates a device ansatz circuit for optimization.\n",
    "    :param parameters_array: list of parameters for constructing ansatz state that should be optimized.\n",
    "    :param measure: measurement type. E.g. 'Z' stands for Z measurement.\n",
    "    :return: quantum circuit.\n",
    "    \"\"\"\n",
    "    q = QuantumRegister(1)\n",
    "    c = ClassicalRegister(1)\n",
    "    circuit = QuantumCircuit(q, c)\n",
    "\n",
    "    # quantum state preparation\n",
    "    circuit = quantum_state_preparation(circuit, parameters)\n",
    "\n",
    "    # measurement\n",
    "    if measure == 'Z':\n",
    "        circuit.measure(q[0], c[0])\n",
    "    elif measure == 'X':\n",
    "        circuit.u2(0, np.pi, q[0])\n",
    "        circuit.measure(q[0], c[0])\n",
    "    elif measure == 'Y':\n",
    "        circuit.u2(0, np.pi/2, q[0])\n",
    "        circuit.measure(q[0], c[0])\n",
    "    else:\n",
    "        raise ValueError('Not valid input for measurement: input should be \"X\" or \"Y\" or \"Z\"')\n",
    "\n",
    "    return circuit"
   ]
  },
  {
   "cell_type": "markdown",
   "metadata": {},
   "source": [
    "We are going to work with python dictionaries and the following method will help us to avoid some errors. It will return the value (number of $| 0 \\rangle$ state measurements) of a corresponding key (e.g ```'0'```), if it exists, else return $0$ (never measured ```'0'``` state)."
   ]
  },
  {
   "cell_type": "code",
   "execution_count": 8,
   "metadata": {},
   "outputs": [],
   "source": [
    "def get_or_else_zero(d: dict, key: str):\n",
    "    \"\"\"\n",
    "    Utility for working with dictionaries. If key is missing\n",
    "    than return 0 otherwise the corresponding value.\n",
    "    :param dict: the dictionary.\n",
    "    :param key: key (string) in interest.\n",
    "    :return: 0 or value of corresponding key.\n",
    "    \"\"\"\n",
    "    value = 0\n",
    "    if key in d:\n",
    "        value = d[key]\n",
    "    return value"
   ]
  },
  {
   "cell_type": "markdown",
   "metadata": {},
   "source": [
    "Here is the quantum module part. The ```quantum_module``` finds the expectation values of a Pauli operator."
   ]
  },
  {
   "cell_type": "code",
   "execution_count": 9,
   "metadata": {},
   "outputs": [],
   "source": [
    "def quantum_module(parameters, measure):\n",
    "    # measure\n",
    "    if measure == 'I':\n",
    "        return 1\n",
    "    elif measure == 'Z':\n",
    "        circuit = vqe_circuit(parameters, 'Z')\n",
    "    elif measure == 'X':\n",
    "        circuit = vqe_circuit(parameters, 'X')\n",
    "    elif measure == 'Y':\n",
    "        circuit = vqe_circuit(parameters, 'Y')\n",
    "    else:\n",
    "        raise ValueError('Not valid input for measurement: input should be \"I\" or \"X\" or \"Z\" or \"Y\"')\n",
    "    \n",
    "    shots = 1000\n",
    "    backend = BasicAer.get_backend('qasm_simulator')\n",
    "    job = execute(circuit, backend, shots=shots)\n",
    "    result = job.result()\n",
    "    counts = result.get_counts()\n",
    "    \n",
    "    expectation_value = (get_or_else_zero(counts, '0') - get_or_else_zero(counts,'1')) / shots\n",
    "    \n",
    "    return expectation_value"
   ]
  },
  {
   "cell_type": "markdown",
   "metadata": {},
   "source": [
    "The ```pauli_operator_to_dict``` creates a  dictionary from the ```WeightedPauliOperator``` object (our Hamiltonian is encoded in this object). "
   ]
  },
  {
   "cell_type": "code",
   "execution_count": 10,
   "metadata": {},
   "outputs": [],
   "source": [
    "def pauli_operator_to_dict(pauli_operator):\n",
    "    \"\"\"\n",
    "    from WeightedPauliOperator return a dict:\n",
    "    {I: 0.7, X: 0.6, Z: 0.1, Y: 0.5}.\n",
    "    :param palui_operator: qiskit's WeightedPauliOperator\n",
    "    :return: a dict in the desired form.\n",
    "    \"\"\"\n",
    "    d = pauli_operator.to_dict()\n",
    "    paulis = d['paulis']\n",
    "    paulis_dict = {}\n",
    "\n",
    "    for x in paulis:\n",
    "        label = x['label']\n",
    "        coeff = x['coeff']['real']\n",
    "        paulis_dict[label] = coeff\n",
    "\n",
    "    return paulis_dict\n",
    "pauli_dict = pauli_operator_to_dict(H)"
   ]
  },
  {
   "cell_type": "markdown",
   "metadata": {},
   "source": [
    "The following is the main method that takes parameters for ansatz state preparation and returns the corresponding expectation value of our Hamiltonian. For each Pauli term, we create separate quantum modules that are calculating the expectation value of each Pauli. Then, all expectation values of Pauli operators multiplied by there corresponding coefficients ($a$, $b$, $c$, $d$) are summed."
   ]
  },
  {
   "cell_type": "code",
   "execution_count": 11,
   "metadata": {},
   "outputs": [],
   "source": [
    "def vqe(parameters):\n",
    "        \n",
    "    # quantum_modules\n",
    "    quantum_module_I = get_or_else_zero(pauli_dict, 'I') * quantum_module(parameters, 'I')\n",
    "    quantum_module_Z = get_or_else_zero(pauli_dict, 'Z') * quantum_module(parameters, 'Z')\n",
    "    quantum_module_X = get_or_else_zero(pauli_dict, 'X') * quantum_module(parameters, 'X')\n",
    "    quantum_module_Y = get_or_else_zero(pauli_dict, 'Y') * quantum_module(parameters, 'Y')\n",
    "    \n",
    "    # summing the measurement results\n",
    "    classical_adder = quantum_module_I + quantum_module_Z + quantum_module_X + quantum_module_Y\n",
    "    \n",
    "    return classical_adder"
   ]
  },
  {
   "cell_type": "markdown",
   "metadata": {},
   "source": [
    "This is the final part of the code where we are minimizing (optimizing) the returned value from the ```vqe``` method by changing parameters for the quantum state preparation circuit (trial/ansatz $| \\psi \\rangle$)."
   ]
  },
  {
   "cell_type": "code",
   "execution_count": 12,
   "metadata": {},
   "outputs": [
    {
     "name": "stdout",
     "output_type": "stream",
     "text": [
      "The exact ground state energy is: -0.287693852578697\n",
      "The estimated ground state energy from VQE algorithm is: -0.288761574814124\n"
     ]
    }
   ],
   "source": [
    "parameters_array = array([np.pi, np.pi])\n",
    "tol = 1e-3 # tolerance for optimization precision.\n",
    "\n",
    "vqe_result = minimize(vqe, parameters_array, method=\"Powell\", tol=tol)\n",
    "print('The exact ground state energy is: {}'.format(reference_energy))\n",
    "print('The estimated ground state energy from VQE algorithm is: {}'.format(vqe_result.fun))"
   ]
  },
  {
   "cell_type": "markdown",
   "metadata": {},
   "source": [
    "This is it! VQE algorithm for one qubit. But what should we do if we have multiple qubits and we should estimate not the expectation value of a single Pauli operator, but the expectation value of a product of Pauli operators? For example, the Hamiltonian could look like this:\n",
    "\n",
    "$$<H> = \\langle \\psi | H | \\psi \\rangle = 0.4 \\cdot \\langle \\psi | IX | \\psi \\rangle + 0.6 \\cdot \\langle \\psi | IZ | \\psi \\rangle + 0.8 \\cdot \\langle \\psi | XY | \\psi \\rangle$$\n",
    "\n",
    "And the algorithm should calculate the expectation value of each Pauli product. The most not trivial case is the $XY$ Pauli term and we will consider only this case. Note that for tensor products of operators like $XY$ Pauli term (actually $XY = X \\otimes Y$):\n",
    "\n",
    "$$U_1 \\otimes U_2 | \\psi_1 \\rangle \\otimes | \\psi_2 \\rangle =  U_1 | \\psi_1 \\rangle \\otimes U_2 | \\psi_2 \\rangle,$$\n",
    "\n",
    "were $U_1$ and $U_2$ are some unitary operators acting on two qubits with separate $| \\psi_1 \\rangle$ and $| \\psi_2 \\rangle$ wavefunctions. This way it can be shown that tensor products of the eigenvectors of $X$ and $Y$ are the eigenvectors for $XY$ Pauli term. This is true for any Pauli term. Also, notice that all eigenvectors of  Pauli product terms have eigenvalues equal to +1 or -1. Thus, the eigenvectors for $XY$ that have +1 eigenvalue are $| + \\rangle \\otimes | +i \\rangle = | ++i \\rangle$, $| - \\rangle \\otimes | -i \\rangle = | --i \\rangle$, and the eigenvectors that have -1 eigenvalue are $| + \\rangle \\otimes |-+i \\rangle = | +-i \\rangle$, $| + \\rangle \\otimes | -i \\rangle = | +-i \\rangle$. As an example:\n",
    "\n",
    "$$XY | + -i \\rangle= X \\otimes Y | + \\rangle \\otimes | -i \\rangle =  X | + \\rangle \\otimes Y | -i \\rangle = \n",
    "-| + \\rangle \\otimes | -i \\rangle = - | + -i \\rangle$$\n",
    "\n",
    "The measurement logic stays the same. So, for $\\langle XY \\rangle$ one should apply $H_{gate}$ on the first qubit and $Y_{gate}$ on the second qubit (or like in tensor product notation $H_{gate} \\otimes Y_{gate}$) before Z basis measurement. To see that we should represent the combined quantum state $| \\psi \\rangle = | \\psi_1 \\rangle \\otimes | \\psi_2 \\rangle$ in the basis of the eigenvectors of $XY$ operator:\n",
    "\n",
    "$$H_{gate} \\otimes Y_{gate} | \\psi \\rangle = H_{gate} \\otimes Y_{gate} (c_1^{XY}| ++i \\rangle + c_2^{XY}| +-i \\rangle + c_3^{XY}| -+i \\rangle + c_4^{XY}| --i \\rangle) = c_1^{XY}| 00 \\rangle + c_2^{XY}| 01 \\rangle + c_3^{XY}| 10 \\rangle + c_4^{XY}| 11 \\rangle,$$\n",
    "\n",
    "where $|c|^2$ are probabilities of measuring in the corresponding eigenvectors of $XY$. By doing similar calculations as we did for single Paulis, it can be shown that the expectation $\\langle \\psi | XY | \\psi \\rangle$ is equal to the sum of $|c|^2$s with -1 coefficient for those eigenvectors which eigenvalue is -1 and with +1 coefficient for those eigenvectors which eigenvalue is -1.\n",
    "\n",
    "This way one can scale this solution for any Hamiltonian."
   ]
  },
  {
   "cell_type": "markdown",
   "metadata": {},
   "source": [
    "[1] [A. Peruzzo et al., Nature Communications, \"A variational eigenvalue solver on a photonic quantum processor\" (2014).](https://www.nature.com/articles/ncomms5213?origin=ppub)\n",
    "\n",
    "[2] [Michał Stęchły, \"Variational Quantum Eigensolver explained\"](https://www.mustythoughts.com/post/variational-quantum-eigensolver-explained).\n",
    "\n",
    "[3] [M.A. Nielsen, I.L. Chuang, Cambridge University Press New York, \"Quantum Computation and Quantum Information: 10th Anniversary Edition\n",
    "10th\" (2011)](https://www.cambridge.org/am/academic/subjects/physics/quantum-physics-quantum-information-and-quantum-computation/quantum-computation-and-quantum-information-10th-anniversary-edition?format=HB)"
   ]
  }
 ],
 "metadata": {
  "kernelspec": {
   "display_name": "Python 3",
   "language": "python",
   "name": "python3"
  },
  "language_info": {
   "codemirror_mode": {
    "name": "ipython",
    "version": 3
   },
   "file_extension": ".py",
   "mimetype": "text/x-python",
   "name": "python",
   "nbconvert_exporter": "python",
   "pygments_lexer": "ipython3",
   "version": "3.6.9"
  }
 },
 "nbformat": 4,
 "nbformat_minor": 2
}
