{
 "cells": [
  {
   "cell_type": "markdown",
   "metadata": {},
   "source": [
    "<img src=\"images/quantum_algorithms_tutorials.png\" alt=\"drawing\" width=\"100\" align=\"left\"/>\n",
    "\n",
    "<h1 align=\"center\">\n",
    "Quantum parallelism and Deutsch–Jozsa algorithm\n",
    "</h1>\n",
    "\n",
    "One of the main resons that makes quantum computing so differnet from the classical computing is possiblity to have superposition states. This ability gives rise to somthing called quantum parallelism [[1](https://www.cambridge.org/am/academic/subjects/physics/quantum-physics-quantum-information-and-quantum-computation/quantum-computation-and-quantum-information-10th-anniversary-edition?format=HB)]. This enables us to compute values/outputs of some function with given different inputs at the same time. Let's say we have two registers one for input the other for output. The initial state is given by $\\left| x \\right\\rangle \\left| y \\right\\rangle$ wavefunction, where $\\left| x \\right\\rangle$ is the register with $x$ input and $\\left| 0 \\right\\rangle$ is the output register where we will store the value of the $f(x)$ function. After applying the circuit that corresponds to the given function the wavefucntion becomes $\\left| x \\right\\rangle \\left| f(x) \\; mod \\; 2 \\right\\rangle$, where we have used [[modular arithmetic](https://en.wikipedia.org/wiki/Modular_arithmetic)]. If $f(x)$ is even we will have $f(x) \\; mod \\; 2 = 0$ output and when $f(x)$ is odd we will have $f(x) \\; mod \\; 2 = 1$. This will help us to use only one qubit for the output register. Here is the circuit:\n",
    "\n",
    "\n",
    "\n"
   ]
  },
  {
   "cell_type": "code",
   "execution_count": null,
   "metadata": {},
   "outputs": [],
   "source": []
  },
  {
   "cell_type": "markdown",
   "metadata": {},
   "source": [
    "[1] [M.A. Nielsen, I.L. Chuang, Cambridge University Press New York, \"Quantum Computation and Quantum Information: 10th Anniversary Edition\n",
    "10th\" (2011)](https://www.cambridge.org/am/academic/subjects/physics/quantum-physics-quantum-information-and-quantum-computation/quantum-computation-and-quantum-information-10th-anniversary-edition?format=HB)"
   ]
  }
 ],
 "metadata": {
  "kernelspec": {
   "display_name": "Python 3",
   "language": "python",
   "name": "python3"
  },
  "language_info": {
   "codemirror_mode": {
    "name": "ipython",
    "version": 3
   },
   "file_extension": ".py",
   "mimetype": "text/x-python",
   "name": "python",
   "nbconvert_exporter": "python",
   "pygments_lexer": "ipython3",
   "version": "3.6.9"
  }
 },
 "nbformat": 4,
 "nbformat_minor": 2
}
